{
  "nbformat": 4,
  "nbformat_minor": 0,
  "metadata": {
    "colab": {
      "provenance": [],
      "authorship_tag": "ABX9TyMxZPDb/AVtwOg2b1YTW+PP",
      "include_colab_link": true
    },
    "kernelspec": {
      "name": "python3",
      "display_name": "Python 3"
    },
    "language_info": {
      "name": "python"
    }
  },
  "cells": [
    {
      "cell_type": "markdown",
      "metadata": {
        "id": "view-in-github",
        "colab_type": "text"
      },
      "source": [
        "<a href=\"https://colab.research.google.com/github/qkrdydrbs/BP_05_Ch3/blob/main/Untitled6.ipynb\" target=\"_parent\"><img src=\"https://colab.research.google.com/assets/colab-badge.svg\" alt=\"Open In Colab\"/></a>"
      ]
    },
    {
      "cell_type": "code",
      "execution_count": null,
      "metadata": {
        "id": "-RpCtqMfepkr"
      },
      "outputs": [],
      "source": []
    },
    {
      "cell_type": "markdown",
      "source": [
        "왜 다음과 같은 수식이 오류를 발생ㄱ시키는가? 올바르게 수정하라\n",
        "'나는 '12 + + ' 개의 사과를 먹었다.'"
      ],
      "metadata": {
        "id": "aA9rH7Gmeu2_"
      }
    },
    {
      "cell_type": "code",
      "source": [
        "print('나는 ' + str(12) +' 개의 사과를 먹었다.')"
      ],
      "metadata": {
        "colab": {
          "base_uri": "https://localhost:8080/"
        },
        "id": "SMxatNche8B0",
        "outputId": "4aca4605-f446-4150-dee9-c384b309d685"
      },
      "execution_count": 1,
      "outputs": [
        {
          "output_type": "stream",
          "name": "stdout",
          "text": [
            "나는 12 개의 사과를 먹었다.\n"
          ]
        }
      ]
    },
    {
      "cell_type": "markdown",
      "source": [
        "다음과 같은 수식을 계산하면 결과는 무엇인가?"
      ],
      "metadata": {
        "id": "SzaUlRnXfOSo"
      }
    },
    {
      "cell_type": "code",
      "source": [
        "'apple' + 'grape'"
      ],
      "metadata": {
        "colab": {
          "base_uri": "https://localhost:8080/",
          "height": 35
        },
        "id": "7kXsaqMIffLP",
        "outputId": "348b89f2-9501-4669-adf4-89cc07e6d4a1"
      },
      "execution_count": 2,
      "outputs": [
        {
          "output_type": "execute_result",
          "data": {
            "text/plain": [
              "'applegrape'"
            ],
            "application/vnd.google.colaboratory.intrinsic+json": {
              "type": "string"
            }
          },
          "metadata": {},
          "execution_count": 2
        }
      ]
    },
    {
      "cell_type": "code",
      "source": [
        "'apple' * 3"
      ],
      "metadata": {
        "colab": {
          "base_uri": "https://localhost:8080/",
          "height": 35
        },
        "id": "Zn411wudf1Ak",
        "outputId": "b8a92944-9cf5-4f7f-e2e8-ee504c72f652"
      },
      "execution_count": 3,
      "outputs": [
        {
          "output_type": "execute_result",
          "data": {
            "text/plain": [
              "'appleappleapple'"
            ],
            "application/vnd.google.colaboratory.intrinsic+json": {
              "type": "string"
            }
          },
          "metadata": {},
          "execution_count": 3
        }
      ]
    },
    {
      "cell_type": "markdown",
      "source": [
        "다음과 같이 사용자가 입력한 문자열 중에서 처음 2글자와 마지막 2글자를 추출한 후에 이들을 합쳐서 출력해보자"
      ],
      "metadata": {
        "id": "H6raGolSf6tB"
      }
    },
    {
      "cell_type": "code",
      "source": [
        "str = input(\"문자열을 입력하시오: \")\n",
        "s = str[0:2] + str[-2:]\n",
        "print(s)"
      ],
      "metadata": {
        "colab": {
          "base_uri": "https://localhost:8080/",
          "height": 363
        },
        "id": "OF14J7-IgUU6",
        "outputId": "92a4808d-e301-452c-d34a-093ddbf67ceb"
      },
      "execution_count": 4,
      "outputs": [
        {
          "output_type": "error",
          "ename": "KeyboardInterrupt",
          "evalue": "ignored",
          "traceback": [
            "\u001b[0;31m---------------------------------------------------------------------------\u001b[0m",
            "\u001b[0;31mKeyboardInterrupt\u001b[0m                         Traceback (most recent call last)",
            "\u001b[0;32m<ipython-input-4-9ae47eeed445>\u001b[0m in \u001b[0;36m<module>\u001b[0;34m\u001b[0m\n\u001b[0;32m----> 1\u001b[0;31m \u001b[0mstr\u001b[0m \u001b[0;34m=\u001b[0m \u001b[0minput\u001b[0m\u001b[0;34m(\u001b[0m\u001b[0;34m\"문자열을 입력하시오: \"\u001b[0m\u001b[0;34m)\u001b[0m\u001b[0;34m\u001b[0m\u001b[0;34m\u001b[0m\u001b[0m\n\u001b[0m\u001b[1;32m      2\u001b[0m \u001b[0ms\u001b[0m \u001b[0;34m=\u001b[0m \u001b[0mstr\u001b[0m\u001b[0;34m[\u001b[0m\u001b[0;36m0\u001b[0m\u001b[0;34m:\u001b[0m\u001b[0;36m2\u001b[0m\u001b[0;34m]\u001b[0m \u001b[0;34m+\u001b[0m \u001b[0mstr\u001b[0m\u001b[0;34m[\u001b[0m\u001b[0;34m-\u001b[0m\u001b[0;36m2\u001b[0m\u001b[0;34m:\u001b[0m\u001b[0;34m]\u001b[0m\u001b[0;34m\u001b[0m\u001b[0;34m\u001b[0m\u001b[0m\n\u001b[1;32m      3\u001b[0m \u001b[0mprint\u001b[0m\u001b[0;34m(\u001b[0m\u001b[0ms\u001b[0m\u001b[0;34m)\u001b[0m\u001b[0;34m\u001b[0m\u001b[0;34m\u001b[0m\u001b[0m\n",
            "\u001b[0;32m/usr/local/lib/python3.7/dist-packages/ipykernel/kernelbase.py\u001b[0m in \u001b[0;36mraw_input\u001b[0;34m(self, prompt)\u001b[0m\n\u001b[1;32m    861\u001b[0m             \u001b[0mself\u001b[0m\u001b[0;34m.\u001b[0m\u001b[0m_parent_ident\u001b[0m\u001b[0;34m,\u001b[0m\u001b[0;34m\u001b[0m\u001b[0;34m\u001b[0m\u001b[0m\n\u001b[1;32m    862\u001b[0m             \u001b[0mself\u001b[0m\u001b[0;34m.\u001b[0m\u001b[0m_parent_header\u001b[0m\u001b[0;34m,\u001b[0m\u001b[0;34m\u001b[0m\u001b[0;34m\u001b[0m\u001b[0m\n\u001b[0;32m--> 863\u001b[0;31m             \u001b[0mpassword\u001b[0m\u001b[0;34m=\u001b[0m\u001b[0;32mFalse\u001b[0m\u001b[0;34m,\u001b[0m\u001b[0;34m\u001b[0m\u001b[0;34m\u001b[0m\u001b[0m\n\u001b[0m\u001b[1;32m    864\u001b[0m         )\n\u001b[1;32m    865\u001b[0m \u001b[0;34m\u001b[0m\u001b[0m\n",
            "\u001b[0;32m/usr/local/lib/python3.7/dist-packages/ipykernel/kernelbase.py\u001b[0m in \u001b[0;36m_input_request\u001b[0;34m(self, prompt, ident, parent, password)\u001b[0m\n\u001b[1;32m    902\u001b[0m             \u001b[0;32mexcept\u001b[0m \u001b[0mKeyboardInterrupt\u001b[0m\u001b[0;34m:\u001b[0m\u001b[0;34m\u001b[0m\u001b[0;34m\u001b[0m\u001b[0m\n\u001b[1;32m    903\u001b[0m                 \u001b[0;31m# re-raise KeyboardInterrupt, to truncate traceback\u001b[0m\u001b[0;34m\u001b[0m\u001b[0;34m\u001b[0m\u001b[0;34m\u001b[0m\u001b[0m\n\u001b[0;32m--> 904\u001b[0;31m                 \u001b[0;32mraise\u001b[0m \u001b[0mKeyboardInterrupt\u001b[0m\u001b[0;34m(\u001b[0m\u001b[0;34m\"Interrupted by user\"\u001b[0m\u001b[0;34m)\u001b[0m \u001b[0;32mfrom\u001b[0m \u001b[0;32mNone\u001b[0m\u001b[0;34m\u001b[0m\u001b[0;34m\u001b[0m\u001b[0m\n\u001b[0m\u001b[1;32m    905\u001b[0m             \u001b[0;32mexcept\u001b[0m \u001b[0mException\u001b[0m \u001b[0;32mas\u001b[0m \u001b[0me\u001b[0m\u001b[0;34m:\u001b[0m\u001b[0;34m\u001b[0m\u001b[0;34m\u001b[0m\u001b[0m\n\u001b[1;32m    906\u001b[0m                 \u001b[0mself\u001b[0m\u001b[0;34m.\u001b[0m\u001b[0mlog\u001b[0m\u001b[0;34m.\u001b[0m\u001b[0mwarning\u001b[0m\u001b[0;34m(\u001b[0m\u001b[0;34m\"Invalid Message:\"\u001b[0m\u001b[0;34m,\u001b[0m \u001b[0mexc_info\u001b[0m\u001b[0;34m=\u001b[0m\u001b[0;32mTrue\u001b[0m\u001b[0;34m)\u001b[0m\u001b[0;34m\u001b[0m\u001b[0;34m\u001b[0m\u001b[0m\n",
            "\u001b[0;31mKeyboardInterrupt\u001b[0m: Interrupted by user"
          ]
        }
      ]
    },
    {
      "cell_type": "markdown",
      "source": [
        "다음과 같이 사용자가 입력한 문자열 뒤에 항상 \"하는 중\"를 붙이는 프로그램을 작성해 보자"
      ],
      "metadata": {
        "id": "IdLdHqzLgx_A"
      }
    },
    {
      "cell_type": "code",
      "source": [
        "s=input(\"문자열을 입력하시오: \")\n",
        "s += \"하는 중\"\n",
        "print(s)"
      ],
      "metadata": {
        "id": "0a_QvW_ShJAZ"
      },
      "execution_count": null,
      "outputs": []
    },
    {
      "cell_type": "markdown",
      "source": [
        "사용자가 입력한 기호 안에 문자열을 삽입하려면 어떻게 해야 하는가? 기호는 문자 2개로 이루어있다고 가정한다.."
      ],
      "metadata": {
        "id": "ncYuMhwBhgvM"
      }
    },
    {
      "cell_type": "code",
      "source": [
        "str=input(\"기호를 입력하시오: \")\n",
        "word=input(\"중간에 삽입할 문자열을 입력하시오: \")\n",
        "s = str[:1] + word + str[1:]\n",
        "print(s)"
      ],
      "metadata": {
        "id": "xhyigZajh5Cu"
      },
      "execution_count": null,
      "outputs": []
    },
    {
      "cell_type": "markdown",
      "source": [],
      "metadata": {
        "id": "wEMJAjiIiYXZ"
      }
    },
    {
      "cell_type": "code",
      "source": [
        "import turtlet = turtle. Turtle()\n",
        "t.shape(\"turtle\")\n",
        "lista = [ ]\n",
        "color = input(\"색상 #1을 입력하시오: \" )\n",
        "lista.append(color)\n",
        "color = input(\"색상 #2을 입력하시오: \")\n",
        "lista.append(color)\n",
        "color = input(\"색상 #3을 입력하시오:\")\n",
        "lista.append(color)\n",
        "\n",
        "t.fillcolor(lista[0])\n",
        "t.begin_fill()\n",
        "t.cicle(50)\n",
        "t.end_fill()\n",
        "\n",
        "t.up()\n",
        "t.goto(100,0)\n",
        "t.down()\n",
        "t.fillcolor(lista[1])\n",
        "begin_fill()\n",
        "circle(50)\n",
        "t.end_fill()\n",
        "\n",
        "t.up()\n",
        "t.goto(200,0)\n",
        "t.down()\n",
        "t.fillcolor(lista[2])\n",
        "t.begin_fill()\n",
        "t.circle(50)\n",
        "t.end_fill()\n",
        "t._screen.exitonclick()\n"
      ],
      "metadata": {
        "id": "sQ-piv5KlZnj"
      },
      "execution_count": null,
      "outputs": []
    },
    {
      "cell_type": "code",
      "source": [],
      "metadata": {
        "id": "rzxnUWMqq7fG"
      },
      "execution_count": null,
      "outputs": []
    },
    {
      "cell_type": "code",
      "source": [],
      "metadata": {
        "id": "2uuxmn2hho8M"
      },
      "execution_count": null,
      "outputs": []
    }
  ]
}